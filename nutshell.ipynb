{
 "metadata": {
  "name": "",
  "signature": "sha256:5bb601aca6f9eb8fed722b8e691e272bd1622b94fc3bc157d8b3ae02a5f4177a"
 },
 "nbformat": 3,
 "nbformat_minor": 0,
 "worksheets": [
  {
   "cells": [
    {
     "cell_type": "markdown",
     "metadata": {},
     "source": [
      "<h1> ASTRO HACK WEEK IN A NUTSHELL </h1>"
     ]
    },
    {
     "cell_type": "markdown",
     "metadata": {},
     "source": [
      "A summary with lots of references to all the knowlege we shared during the Astro Hack Week 2014. You will find this notebook and the materials for the days 1-5 at https://github.com/sofiatti/AstroHackWeek. "
     ]
    },
    {
     "cell_type": "markdown",
     "metadata": {},
     "source": [
      "<h2>Seaborn: Statistical Data Visualization</h2>\n",
      " \n",
      "* Can be interweaved with matplotlib.pyplot code\n",
      "* More flexible than it seems.\n",
      "* Tips: \n",
      "    - Hack sourcecode\n",
      "    - Raise issues at GitHub\n",
      "    - E-Mail Michael   "
     ]
    },
    {
     "cell_type": "code",
     "collapsed": false,
     "input": [
      "%matplotlib inline\n",
      "%load https://web.stanford.edu/~mwaskom/software/seaborn/_downloads/hexbin_marginals.py"
     ],
     "language": "python",
     "metadata": {},
     "outputs": [],
     "prompt_number": 2
    },
    {
     "cell_type": "code",
     "collapsed": false,
     "input": [
      "\"\"\"\n",
      "Hexbin plot with marginal distributions\n",
      "=======================================\n",
      "\n",
      "_thumb: .45, .4\n",
      "\"\"\"\n",
      "import numpy as np\n",
      "from scipy.stats import kendalltau\n",
      "import seaborn as sns\n",
      "sns.set(style=\"ticks\")\n",
      "\n",
      "rs = np.random.RandomState(11)\n",
      "x = rs.gamma(2, size=1000)\n",
      "y = -.5 * x + rs.normal(size=1000)\n",
      "\n",
      "sns.jointplot(x, y, kind=\"hex\", stat_func=kendalltau, color=\"#4CB391\")\n"
     ],
     "language": "python",
     "metadata": {},
     "outputs": []
    },
    {
     "cell_type": "markdown",
     "metadata": {},
     "source": [
      "<h2>Chris Beaumont's talk on Glue, an astro interactive data visualization tool</h2>\n",
      "\n",
      "* Not proposing that Glue is the key interface for working with data\n",
      "* Higher level talk about data representation:\n",
      "    - Key challenges for working with data in the coming decade in Astronomy.\n",
      "    - Data Analysis workflow for Astro.\n",
      "    - The future of analysis is **not** about sophisticated algoriths. It's about **better and faster ways to slice and dice data very flexibly**.\n",
      "    - Ask and answer basic questions very quickly. Answering sophisticated questions quickly is less important. We only ask a couple of these per research project. We can afford to spend more time on them.\n"
     ]
    },
    {
     "cell_type": "code",
     "collapsed": false,
     "input": [
      "from IPython.display import YouTubeVideo\n",
      "YouTubeVideo('SES7DMwq9Lc#t=6m00s')"
     ],
     "language": "python",
     "metadata": {},
     "outputs": [
      {
       "html": [
        "\n",
        "        <iframe\n",
        "            width=\"400\"\n",
        "            height=300\"\n",
        "            src=\"https://www.youtube.com/embed/SES7DMwq9Lc#t=6m00s\"\n",
        "            frameborder=\"0\"\n",
        "            allowfullscreen\n",
        "        ></iframe>\n",
        "        "
       ],
       "metadata": {},
       "output_type": "pyout",
       "prompt_number": 3,
       "text": [
        "<IPython.lib.display.YouTubeVideo at 0x10427f210>"
       ]
      }
     ],
     "prompt_number": 3
    },
    {
     "cell_type": "markdown",
     "metadata": {},
     "source": [
      "<h2>D3: NY Times Style Interactive Plots</h2>\n",
      "Don't really recommend it, but it looks awesome! "
     ]
    },
    {
     "cell_type": "code",
     "collapsed": false,
     "input": [
      "from IPython.display import IFrame\n",
      "IFrame('http://d3js.org/', width='100%', height=350)"
     ],
     "language": "python",
     "metadata": {},
     "outputs": [
      {
       "html": [
        "\n",
        "        <iframe\n",
        "            width=\"100%\"\n",
        "            height=350\"\n",
        "            src=\"http://d3js.org/\"\n",
        "            frameborder=\"0\"\n",
        "            allowfullscreen\n",
        "        ></iframe>\n",
        "        "
       ],
       "metadata": {},
       "output_type": "pyout",
       "prompt_number": 4,
       "text": [
        "<IPython.lib.display.IFrame at 0x105de9690>"
       ]
      }
     ],
     "prompt_number": 4
    },
    {
     "cell_type": "markdown",
     "metadata": {},
     "source": [
      "<h2>Bokeh: Python D3.js style graphics</h2>"
     ]
    },
    {
     "cell_type": "code",
     "collapsed": false,
     "input": [
      "IFrame('http://bokeh.pydata.org/', width='100%', height=350)"
     ],
     "language": "python",
     "metadata": {},
     "outputs": [
      {
       "html": [
        "\n",
        "        <iframe\n",
        "            width=\"100%\"\n",
        "            height=350\"\n",
        "            src=\"http://bokeh.pydata.org/\"\n",
        "            frameborder=\"0\"\n",
        "            allowfullscreen\n",
        "        ></iframe>\n",
        "        "
       ],
       "metadata": {},
       "output_type": "pyout",
       "prompt_number": 5,
       "text": [
        "<IPython.lib.display.IFrame at 0x105de9710>"
       ]
      }
     ],
     "prompt_number": 5
    },
    {
     "cell_type": "markdown",
     "metadata": {},
     "source": [
      "<h2>PEP 8: Style Guide for Python Code</h2>"
     ]
    },
    {
     "cell_type": "code",
     "collapsed": false,
     "input": [
      "IFrame('http://pep8online.com/', width='100%', height=350)"
     ],
     "language": "python",
     "metadata": {},
     "outputs": [
      {
       "html": [
        "\n",
        "        <iframe\n",
        "            width=\"100%\"\n",
        "            height=350\"\n",
        "            src=\"http://pep8online.com/\"\n",
        "            frameborder=\"0\"\n",
        "            allowfullscreen\n",
        "        ></iframe>\n",
        "        "
       ],
       "metadata": {},
       "output_type": "pyout",
       "prompt_number": 6,
       "text": [
        "<IPython.lib.display.IFrame at 0x105de9610>"
       ]
      }
     ],
     "prompt_number": 6
    },
    {
     "cell_type": "markdown",
     "metadata": {},
     "source": [
      "<h2> Fun things to browse when you have free time </h2>\n",
      "\n",
      "[A gallery of iPython notebooks](https://github.com/ipython/ipython/wiki/A-gallery-of-interesting-IPython-Notebooks)\n",
      "\n",
      "[Who is Julia?](http://julialang.org/) Ask Kyle Barbary (LNL talk TBA)\n",
      "\n",
      "[Project Jupyter](http://jupyter.org/)\n",
      "\n",
      "[Jake Vanderplas' Intro to scientific computing in Python](https://github.com/jakevdp/2014_fall_ASTR599/tree/master/notebooks)\n",
      "\n",
      "[Jake's Scientific Americal blog post ](http://blogs.scientificamerican.com/sa-visual/2014/09/16/visualizing-4-dimensional-asteroids/)\n",
      "\n",
      "[A cool discussion about p-values that won a recent award for statistical writing](http://www.nature.com/news/scientific-method-statistical-errors-1.14700)\n",
      "\n",
      "[Book: Jaynes on Probability Theory (online)](http://bayes.wustl.edu/etj/prob/book.pdf)\n",
      "\n",
      "[Book: MacKay's Information Theory, Inference, and Learning Algorithms (also online)](http://www.inference.phy.cam.ac.uk/itila/book.html)"
     ]
    },
    {
     "cell_type": "code",
     "collapsed": false,
     "input": [],
     "language": "python",
     "metadata": {},
     "outputs": [],
     "prompt_number": 6
    }
   ],
   "metadata": {}
  }
 ]
}